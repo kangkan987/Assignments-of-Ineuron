{
 "cells": [
  {
   "cell_type": "markdown",
   "metadata": {},
   "source": [
    "1.Write a Python Program to implement your own myreduce() function which works exactly\n",
    "like Python's built-in function reduce()"
   ]
  },
  {
   "cell_type": "code",
   "execution_count": 1,
   "metadata": {},
   "outputs": [],
   "source": [
    "#Creating a function as my_reduce and give a sequence iterable\n",
    "def my_reduce(lst):\n",
    "    # Creating a function inside my_reduce to perform exactly like reduce() does\n",
    "    def add_():\n",
    "        sum1 = 0\n",
    "        for i in lst:\n",
    "            sum1+=i\n",
    "        return sum1\n",
    "    return add_            "
   ]
  },
  {
   "cell_type": "code",
   "execution_count": 2,
   "metadata": {},
   "outputs": [],
   "source": [
    "# A single final value is obtained\n",
    "a = my_reduce([1,2,3])\n",
    "a()"
   ]
  },
  {
   "cell_type": "markdown",
   "metadata": {},
   "source": [
    "2.Write a Python program to implement your own myfilter() function which works exactly\n",
    "like Python's built-in function filter()\n"
   ]
  },
  {
   "cell_type": "code",
   "execution_count": 3,
   "metadata": {},
   "outputs": [],
   "source": [
    "# Creating a function my_filter give a sequence iterable\n",
    "def my_filter(sq):\n",
    "    # Creating a function inside my_filter to perform exactly like filter() does\n",
    "    def even_check():\n",
    "        num = []\n",
    "        for i in sq:\n",
    "            if i%2 == 0:\n",
    "                num.append(i)\n",
    "        return num\n",
    "    return even_check"
   ]
  },
  {
   "cell_type": "code",
   "execution_count": 4,
   "metadata": {},
   "outputs": [],
   "source": [
    "# let's filter a list of numbers to execute even numbers\n",
    "b = my_filter([1,2,3,4,5,6])"
   ]
  },
  {
   "cell_type": "code",
   "execution_count": 5,
   "metadata": {},
   "outputs": [
    {
     "data": {
      "text/plain": [
       "[2, 4, 6]"
      ]
     },
     "execution_count": 5,
     "metadata": {},
     "output_type": "execute_result"
    }
   ],
   "source": [
    "b()"
   ]
  },
  {
   "cell_type": "markdown",
   "metadata": {},
   "source": [
    " Ans to the Question No 3:"
   ]
  },
  {
   "cell_type": "code",
   "execution_count": 6,
   "metadata": {},
   "outputs": [
    {
     "name": "stdout",
     "output_type": "stream",
     "text": [
      "['x', 'xx', 'xxx', 'xxxx', 'y', 'yy', 'yyy', 'yyyy', 'z', 'zz', 'zzz', 'zzzz']\n",
      "['x', 'y', 'z', 'xx', 'yy', 'zz', 'xxx', 'yyy', 'zzz', 'xxxx', 'yyyy', 'zzzz']\n"
     ]
    }
   ],
   "source": [
    "a = list(\"xyz\")\n",
    "b = [a[i]*j for i in range(len(a)) for j in range(1,5)]\n",
    "c = [a[i] for i in range(len(a))]\n",
    "c1 = [a[i]*j for j in range(2,5) for i in range(len(a))]\n",
    "c.extend(c1)\n",
    "print(b)\n",
    "print(c)\n"
   ]
  },
  {
   "cell_type": "code",
   "execution_count": 7,
   "metadata": {},
   "outputs": [
    {
     "name": "stdout",
     "output_type": "stream",
     "text": [
      "[[2], [3], [4], [3], [4], [5], [4], [5], [6], [2, 3, 4, 5], [3, 4, 5, 6], [4, 5, 6, 7], [5, 6, 7, 8]]\n",
      "[(1, 1), (2, 1), (3, 1), (1, 2), (2, 2), (3, 2), (1, 3), (2, 3), (3, 3)]\n"
     ]
    }
   ],
   "source": [
    "number = [2,3,4]\n",
    "output = [[i+j] for i in number for j in range(0,3)]\n",
    "number1 = [2,3,4,5]\n",
    "output1 = [[i+j for i in number1] for j in range(0,4)]\n",
    "Final_output = output+output1\n",
    "number2 = [1,2,3]\n",
    "output2 = [(b,a) for a in number2 for b in number2]\n",
    "print(Final_output)\n",
    "print(output2)"
   ]
  }
 ],
 "metadata": {
  "kernelspec": {
   "display_name": "Python 3",
   "language": "python",
   "name": "python3"
  },
  "language_info": {
   "codemirror_mode": {
    "name": "ipython",
    "version": 3
   },
   "file_extension": ".py",
   "mimetype": "text/x-python",
   "name": "python",
   "nbconvert_exporter": "python",
   "pygments_lexer": "ipython3",
   "version": "3.7.6"
  },
  "toc": {
   "base_numbering": 1,
   "nav_menu": {},
   "number_sections": true,
   "sideBar": true,
   "skip_h1_title": false,
   "title_cell": "Table of Contents",
   "title_sidebar": "Contents",
   "toc_cell": false,
   "toc_position": {},
   "toc_section_display": true,
   "toc_window_display": false
  }
 },
 "nbformat": 4,
 "nbformat_minor": 4
}
